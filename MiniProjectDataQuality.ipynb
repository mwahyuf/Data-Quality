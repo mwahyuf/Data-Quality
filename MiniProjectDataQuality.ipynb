{
 "cells": [
  {
   "cell_type": "markdown",
   "id": "423c459b",
   "metadata": {},
   "source": [
    "## Case Study : Profiling"
   ]
  },
  {
   "cell_type": "code",
   "execution_count": 1,
   "id": "c277c10a",
   "metadata": {},
   "outputs": [],
   "source": [
    "import pandas as pd \n",
    "import numpy as np\n",
    "import io\n",
    "import pandas_profiling\n",
    "import matplotlib.pyplot as plt\n",
    "plt.style.use('default')"
   ]
  },
  {
   "cell_type": "code",
   "execution_count": 2,
   "id": "5a239801",
   "metadata": {},
   "outputs": [],
   "source": [
    "uncleaned_raw = pd.read_csv('https://storage.googleapis.com/dqlab-dataset/uncleaned_raw.csv')"
   ]
  },
  {
   "cell_type": "code",
   "execution_count": 3,
   "id": "c05a5288",
   "metadata": {},
   "outputs": [
    {
     "name": "stdout",
     "output_type": "stream",
     "text": [
      "Lima data teratas:\n"
     ]
    },
    {
     "data": {
      "text/html": [
       "<div>\n",
       "<style scoped>\n",
       "    .dataframe tbody tr th:only-of-type {\n",
       "        vertical-align: middle;\n",
       "    }\n",
       "\n",
       "    .dataframe tbody tr th {\n",
       "        vertical-align: top;\n",
       "    }\n",
       "\n",
       "    .dataframe thead th {\n",
       "        text-align: right;\n",
       "    }\n",
       "</style>\n",
       "<table border=\"1\" class=\"dataframe\">\n",
       "  <thead>\n",
       "    <tr style=\"text-align: right;\">\n",
       "      <th></th>\n",
       "      <th>InvoiceNo</th>\n",
       "      <th>Description</th>\n",
       "      <th>Quantity</th>\n",
       "      <th>InvoiceDate</th>\n",
       "      <th>UnitPrice</th>\n",
       "      <th>CustomerID</th>\n",
       "      <th>City</th>\n",
       "    </tr>\n",
       "  </thead>\n",
       "  <tbody>\n",
       "    <tr>\n",
       "      <th>0</th>\n",
       "      <td>536365</td>\n",
       "      <td>WHITE HANGING HEART T-LIGHT HOLDER</td>\n",
       "      <td>6.0</td>\n",
       "      <td>12/01/10 08.26</td>\n",
       "      <td>29000</td>\n",
       "      <td>17850</td>\n",
       "      <td>Surabaya</td>\n",
       "    </tr>\n",
       "    <tr>\n",
       "      <th>1</th>\n",
       "      <td>536366</td>\n",
       "      <td>WHITE METAL LANTERN</td>\n",
       "      <td>6.0</td>\n",
       "      <td>12/01/10 08.26</td>\n",
       "      <td>41000</td>\n",
       "      <td>17850</td>\n",
       "      <td>Surabaya</td>\n",
       "    </tr>\n",
       "    <tr>\n",
       "      <th>2</th>\n",
       "      <td>536367</td>\n",
       "      <td>CREAM CUPID HEARTS COAT HANGER</td>\n",
       "      <td>8.0</td>\n",
       "      <td>12/01/10 08.26</td>\n",
       "      <td>18000</td>\n",
       "      <td>17850</td>\n",
       "      <td>Surabaya</td>\n",
       "    </tr>\n",
       "    <tr>\n",
       "      <th>3</th>\n",
       "      <td>536368</td>\n",
       "      <td>KNITTED UNION FLAG HOT WATER BOTTLE</td>\n",
       "      <td>6.0</td>\n",
       "      <td>12/01/10 08.26</td>\n",
       "      <td>38000</td>\n",
       "      <td>17850</td>\n",
       "      <td>Jakarta</td>\n",
       "    </tr>\n",
       "    <tr>\n",
       "      <th>4</th>\n",
       "      <td>536369</td>\n",
       "      <td>RED WOOLLY HOTTIE WHITE HEART.</td>\n",
       "      <td>6.0</td>\n",
       "      <td>12/01/10 08.26</td>\n",
       "      <td>27000</td>\n",
       "      <td>17850</td>\n",
       "      <td>Medan</td>\n",
       "    </tr>\n",
       "  </tbody>\n",
       "</table>\n",
       "</div>"
      ],
      "text/plain": [
       "   InvoiceNo                          Description  Quantity     InvoiceDate  \\\n",
       "0     536365   WHITE HANGING HEART T-LIGHT HOLDER       6.0  12/01/10 08.26   \n",
       "1     536366                  WHITE METAL LANTERN       6.0  12/01/10 08.26   \n",
       "2     536367       CREAM CUPID HEARTS COAT HANGER       8.0  12/01/10 08.26   \n",
       "3     536368  KNITTED UNION FLAG HOT WATER BOTTLE       6.0  12/01/10 08.26   \n",
       "4     536369       RED WOOLLY HOTTIE WHITE HEART.       6.0  12/01/10 08.26   \n",
       "\n",
       "   UnitPrice  CustomerID      City  \n",
       "0      29000       17850  Surabaya  \n",
       "1      41000       17850  Surabaya  \n",
       "2      18000       17850  Surabaya  \n",
       "3      38000       17850   Jakarta  \n",
       "4      27000       17850     Medan  "
      ]
     },
     "execution_count": 3,
     "metadata": {},
     "output_type": "execute_result"
    }
   ],
   "source": [
    "# Inspeksi dataframe uncleaned_raw\n",
    "print('Lima data teratas:')\n",
    "uncleaned_raw.head()"
   ]
  },
  {
   "cell_type": "code",
   "execution_count": 4,
   "id": "7b9a9e4e",
   "metadata": {},
   "outputs": [
    {
     "name": "stdout",
     "output_type": "stream",
     "text": [
      "\n",
      "Kolom dengan missing values :\n",
      "InvoiceNo      False\n",
      "Description    False\n",
      "Quantity        True\n",
      "InvoiceDate    False\n",
      "UnitPrice      False\n",
      "CustomerID     False\n",
      "City           False\n",
      "dtype: bool\n"
     ]
    }
   ],
   "source": [
    "# Check kolom yang mengandung missing values\n",
    "print('\\nKolom dengan missing values :')\n",
    "print(uncleaned_raw.isnull().any())"
   ]
  },
  {
   "cell_type": "code",
   "execution_count": 5,
   "id": "05e462d6",
   "metadata": {},
   "outputs": [
    {
     "name": "stdout",
     "output_type": "stream",
     "text": [
      "Length dari Quantity : 505\n",
      "Count dari Quantity : 485\n",
      "Missing values of Quantity : 20\n",
      "Ratio of missing values quantity : 0.039603960396039604\n"
     ]
    }
   ],
   "source": [
    "# Persentase missing value\n",
    "length_qty = len(uncleaned_raw['Quantity'])\n",
    "count_qty = uncleaned_raw['Quantity'].count()\n",
    "print('Length dari Quantity :', length_qty)\n",
    "print('Count dari Quantity :', count_qty)\n",
    "\n",
    "# Mengurangi length dengan count\n",
    "number_of_missing_values_qty = length_qty - count_qty\n",
    "print('Missing values of Quantity :', number_of_missing_values_qty)\n",
    "\n",
    "# Mengubah ke bentuk float\n",
    "float_of_missing_values_qty = float(number_of_missing_values_qty/length_qty)\n",
    "print('Ratio of missing values quantity :', float_of_missing_values_qty)"
   ]
  },
  {
   "cell_type": "code",
   "execution_count": 6,
   "id": "8f13f7f4",
   "metadata": {},
   "outputs": [
    {
     "name": "stdout",
     "output_type": "stream",
     "text": [
      "Persentase missing value kolom Quantity : 4.0%\n"
     ]
    }
   ],
   "source": [
    "# Mengubah ke dalam bentuk persen\n",
    "pct_of_missing_values_qty = '{0:.1f}%'.format(float_of_missing_values_qty * 100)\n",
    "\n",
    "# Print percentage dari missing values\n",
    "print('Persentase missing value kolom Quantity :', pct_of_missing_values_qty)"
   ]
  },
  {
   "cell_type": "code",
   "execution_count": 7,
   "id": "c9e1c59b",
   "metadata": {},
   "outputs": [],
   "source": [
    "# Mengisis missing value tersebut dengan mean dari kolom tersebut\n",
    "uncleaned_raw['Quantity'] = uncleaned_raw['Quantity'].fillna(uncleaned_raw['Quantity'].mean())"
   ]
  },
  {
   "cell_type": "markdown",
   "id": "6b7b09a3",
   "metadata": {},
   "source": [
    "## Case Study : Data Cleansing"
   ]
  },
  {
   "cell_type": "code",
   "execution_count": 8,
   "id": "2e29ca15",
   "metadata": {},
   "outputs": [
    {
     "data": {
      "image/png": "[encoded data removed]",
      "text/plain": [
       "<Figure size 640x480 with 1 Axes>"
      ]
     },
     "metadata": {},
     "output_type": "display_data"
    }
   ],
   "source": [
    "# Mengetahui kolom yang memiliki outliers!\n",
    "uncleaned_raw.boxplot()\n",
    "plt.show()"
   ]
  },
  {
   "cell_type": "markdown",
   "id": "bc7e1e61",
   "metadata": {},
   "source": [
    "### Checking Outliers"
   ]
  },
  {
   "cell_type": "code",
   "execution_count": 9,
   "id": "993b501f",
   "metadata": {},
   "outputs": [],
   "source": [
    "# Check IQR\n",
    "Q1 = uncleaned_raw['UnitPrice'].quantile(0.25)\n",
    "Q3 = uncleaned_raw['UnitPrice'].quantile(0.75)\n",
    "IQR = Q3 - Q1"
   ]
  },
  {
   "cell_type": "code",
   "execution_count": 12,
   "id": "f678c904",
   "metadata": {},
   "outputs": [],
   "source": [
    "# removing outliers\n",
    "uncleaned_raw = uncleaned_raw[~((uncleaned_raw['UnitPrice'] < (Q1 - 1.5*IQR)) | (uncleaned_raw['UnitPrice'] > (Q3 + 1.5 * IQR)))]"
   ]
  },
  {
   "cell_type": "code",
   "execution_count": 13,
   "id": "629727fb",
   "metadata": {},
   "outputs": [
    {
     "name": "stdout",
     "output_type": "stream",
     "text": [
      "0      False\n",
      "1      False\n",
      "2      False\n",
      "3      False\n",
      "4      False\n",
      "       ...  \n",
      "500     True\n",
      "501     True\n",
      "502     True\n",
      "503     True\n",
      "504     True\n",
      "Length: 502, dtype: bool\n"
     ]
    }
   ],
   "source": [
    "# Check for duplication\n",
    "print(uncleaned_raw.duplicated(subset=None))"
   ]
  },
  {
   "cell_type": "code",
   "execution_count": 14,
   "id": "ede2e03e",
   "metadata": {},
   "outputs": [],
   "source": [
    "# Remove duplication\n",
    "uncleaned_raw = uncleaned_raw.drop_duplicates()"
   ]
  },
  {
   "cell_type": "code",
   "execution_count": null,
   "id": "cb7ffdcb",
   "metadata": {},
   "outputs": [],
   "source": []
  }
 ],
 "metadata": {
  "kernelspec": {
   "display_name": "Python 3",
   "language": "python",
   "name": "python3"
  },
  "language_info": {
   "codemirror_mode": {
    "name": "ipython",
    "version": 3
   },
   "file_extension": ".py",
   "mimetype": "text/x-python",
   "name": "python",
   "nbconvert_exporter": "python",
   "pygments_lexer": "ipython3",
   "version": "3.8.8"
  }
 },
 "nbformat": 4,
 "nbformat_minor": 5
}
